{
 "cells": [
  {
   "cell_type": "code",
   "execution_count": 1,
   "metadata": {
    "collapsed": true
   },
   "outputs": [],
   "source": [
    "#Hog classifier"
   ]
  },
  {
   "cell_type": "code",
   "execution_count": 1,
   "metadata": {
    "collapsed": false
   },
   "outputs": [
    {
     "name": "stderr",
     "output_type": "stream",
     "text": [
      "/Users/shashank/.conda/envs/gl-env/lib/python2.7/site-packages/sklearn/cross_validation.py:44: DeprecationWarning: This module was deprecated in version 0.18 in favor of the model_selection module into which all the refactored classes and functions are moved. Also note that the interface of the new CV iterators are different from that of this module. This module will be removed in 0.20.\n",
      "  \"This module will be removed in 0.20.\", DeprecationWarning)\n"
     ]
    }
   ],
   "source": [
    "import matplotlib.image as mpimg\n",
    "import matplotlib.pyplot as plt\n",
    "import numpy as np\n",
    "import cv2\n",
    "import glob\n",
    "import time\n",
    "from sklearn.svm import LinearSVC\n",
    "from sklearn.preprocessing import StandardScaler\n",
    "from skimage.feature import hog\n",
    "\n",
    "# NOTE: the next import is only valid for scikit-learn version <= 0.17\n",
    "# for scikit-learn >= 0.18 use:\n",
    "# from sklearn.model_selection import train_test_split\n",
    "from sklearn.cross_validation import train_test_split\n",
    "\n",
    "# Define a function to return HOG features and visualization\n",
    "def get_hog_features(img, orient, pix_per_cell, cell_per_block, \n",
    "                        vis=False, feature_vec=True):\n",
    "    # Call with two outputs if vis==True\n",
    "    if vis == True:\n",
    "        features, hog_image = hog(img, orientations=orient, pixels_per_cell=(pix_per_cell, pix_per_cell),\n",
    "                                  cells_per_block=(cell_per_block, cell_per_block), transform_sqrt=True, \n",
    "                                  visualise=vis, feature_vector=feature_vec)\n",
    "        return features, hog_image\n",
    "    # Otherwise call with one output\n",
    "    else:      \n",
    "        features = hog(img, orientations=orient, pixels_per_cell=(pix_per_cell, pix_per_cell),\n",
    "                       cells_per_block=(cell_per_block, cell_per_block), transform_sqrt=True, \n",
    "                       visualise=vis, feature_vector=feature_vec)\n",
    "        return features\n",
    "\n",
    "# Define a function to extract features from a list of images\n",
    "# Have this function call bin_spatial() and color_hist()\n",
    "def extract_features(imgs, cspace='RGB', orient=8, \n",
    "                        pix_per_cell=8, cell_per_block=4, hog_channel=0):\n",
    "    # Create a list to append feature vectors to\n",
    "    features = []\n",
    "    # Iterate through the list of images\n",
    "    for file in imgs:\n",
    "        # Read in each one by one\n",
    "        image = mpimg.imread(file)\n",
    "        # apply color conversion if other than 'RGB'\n",
    "        if cspace != 'RGB':\n",
    "            if cspace == 'HSV':\n",
    "                feature_image = cv2.cvtColor(image, cv2.COLOR_RGB2HSV)\n",
    "            elif cspace == 'LUV':\n",
    "                feature_image = cv2.cvtColor(image, cv2.COLOR_RGB2LUV)\n",
    "            elif cspace == 'HLS':\n",
    "                feature_image = cv2.cvtColor(image, cv2.COLOR_RGB2HLS)\n",
    "            elif cspace == 'YUV':\n",
    "                feature_image = cv2.cvtColor(image, cv2.COLOR_RGB2YUV)\n",
    "            elif cspace == 'YCrCb':\n",
    "                feature_image = cv2.cvtColor(image, cv2.COLOR_RGB2YCrCb)\n",
    "        else: feature_image = np.copy(image)      \n",
    "\n",
    "        # Call get_hog_features() with vis=False, feature_vec=True\n",
    "        if hog_channel == 'ALL':\n",
    "            hog_features = []\n",
    "            for channel in range(feature_image.shape[2]):\n",
    "                hog_features.append(get_hog_features(feature_image[:,:,channel], \n",
    "                                    orient, pix_per_cell, cell_per_block, \n",
    "                                    vis=False, feature_vec=True))\n",
    "            hog_features = np.ravel(hog_features)        \n",
    "        else:\n",
    "            hog_features = get_hog_features(feature_image[:,:,hog_channel], orient, \n",
    "                        pix_per_cell, cell_per_block, vis=False, feature_vec=True)\n",
    "        # Append the new feature vector to the features list\n",
    "        features.append(hog_features)\n",
    "        \n",
    "    # Return list of feature vectors\n",
    "    return features\n",
    "\n"
   ]
  },
  {
   "cell_type": "code",
   "execution_count": 3,
   "metadata": {
    "collapsed": false
   },
   "outputs": [
    {
     "name": "stdout",
     "output_type": "stream",
     "text": [
      "('len(cars)', 3425)\n",
      "('len(notcars)', 3900)\n",
      "['OwnCollection/vehicles/Right/image0110.png', 'OwnCollection/vehicles/Right/image0676.png', 'OwnCollection/vehicles/Right/image0662.png', 'OwnCollection/vehicles/Right/image0104.png']\n"
     ]
    }
   ],
   "source": [
    "# Read in car and non-car images\n",
    "cars = glob.glob('OwnCollection/vehicles/**/*.png')\n",
    "notcars = glob.glob('OwnCollection/non-vehicles/**/*.png')\n",
    "\n",
    "print('len(cars)', len(cars))\n",
    "print('len(notcars)', len(notcars))\n",
    "    \n",
    "print(cars[0:4])"
   ]
  },
  {
   "cell_type": "code",
   "execution_count": 5,
   "metadata": {
    "collapsed": false
   },
   "outputs": [
    {
     "name": "stdout",
     "output_type": "stream",
     "text": [
      "(64, 64, 3)\n",
      "('len(feat[0])', 9600)\n"
     ]
    }
   ],
   "source": [
    "\n",
    "%matplotlib inline\n",
    "\n",
    "imageName =['test_images/test7.png']\n",
    "\n",
    "feat = extract_features(imageName, cspace='RGB', orient=8,pix_per_cell=8, cell_per_block=4, hog_channel='ALL')\n",
    "\n",
    "\n",
    "image = mpimg.imread(imageName[0])\n",
    "print(image.shape)\n",
    "\n",
    "print('len(feat[0])',len(feat[0]))"
   ]
  },
  {
   "cell_type": "code",
   "execution_count": 72,
   "metadata": {
    "collapsed": false
   },
   "outputs": [
    {
     "name": "stdout",
     "output_type": "stream",
     "text": [
      "(24.96, 'Seconds to extract HOG features...')\n",
      "('X.shape', (7325, 1536))\n",
      "('Using:', 8, 'orientations', 8, 'pixels per cell and', 1, 'cells per block')\n",
      "('Feature vector length:', 1536)\n",
      "(0.49, 'Seconds to train SVC...')\n"
     ]
    }
   ],
   "source": [
    "\n",
    "### TODO: Tweak these parameters and see how the results change.\n",
    "colorspace = 'YCrCb' # Can be RGB, HSV, LUV, HLS, YUV, YCrCb\n",
    "orient = 8\n",
    "pix_per_cell = 8\n",
    "cell_per_block = 1\n",
    "hog_channel = 'ALL' # Can be 0, 1, 2, or \"ALL\"\n",
    "\n",
    "t=time.time()\n",
    "car_features = extract_features(cars, cspace=colorspace, orient=orient, \n",
    "                        pix_per_cell=pix_per_cell, cell_per_block=cell_per_block, \n",
    "                        hog_channel=hog_channel)\n",
    "notcar_features = extract_features(notcars, cspace=colorspace, orient=orient, \n",
    "                        pix_per_cell=pix_per_cell, cell_per_block=cell_per_block, \n",
    "                        hog_channel=hog_channel)\n",
    "t2 = time.time()\n",
    "print(round(t2-t, 2), 'Seconds to extract HOG features...')\n",
    "# Create an array stack of feature vectors\n",
    "X = np.vstack((car_features, notcar_features)).astype(np.float64)     \n",
    "print('X.shape',X.shape)\n",
    "# Fit a per-column scaler\n",
    "X_scaler = StandardScaler().fit(X)\n",
    "# Apply the scaler to X\n",
    "scaled_X = X_scaler.transform(X)\n",
    "\n",
    "\n",
    "# Define the labels vector\n",
    "y = np.hstack((np.ones(len(car_features)), np.zeros(len(notcar_features))))\n",
    "\n",
    "\n",
    "# Split up data into randomized training and test sets\n",
    "rand_state = np.random.randint(0, 100)\n",
    "X_train, X_test, y_train, y_test = train_test_split(\n",
    "    scaled_X, y, test_size=0.2, random_state=rand_state)\n",
    "\n",
    "print('Using:',orient,'orientations',pix_per_cell,\n",
    "    'pixels per cell and', cell_per_block,'cells per block')\n",
    "print('Feature vector length:', len(X_train[0]))\n",
    "# Use a linear SVC \n",
    "svc = LinearSVC()\n",
    "# Check the training time for the SVC\n",
    "t=time.time()\n",
    "svc.fit(X_train, y_train)\n",
    "t2 = time.time()\n",
    "print(round(t2-t, 2), 'Seconds to train SVC...')\n"
   ]
  },
  {
   "cell_type": "code",
   "execution_count": 83,
   "metadata": {
    "collapsed": false
   },
   "outputs": [
    {
     "name": "stdout",
     "output_type": "stream",
     "text": [
      "3425\n",
      "('Test Accuracy of SVC = ', 0.957)\n",
      "('SVC predicts: ', array([ 0.,  1.,  0.,  0.,  0.,  1.,  0.,  1.,  1.,  1.,  0.,  1.,  0.,\n",
      "        1.,  0.]))\n",
      "('Labels        ', array([ 0.,  1.,  0.,  0.,  0.,  1.,  0.,  1.,  1.,  1.,  0.,  1.,  0.,\n",
      "        0.,  0.]))\n",
      "(0.00205, 'Seconds to predict', 15, 'labels with SVC')\n"
     ]
    }
   ],
   "source": [
    "print(len(car_features))\n",
    "#Check the score of the SVC\n",
    "print('Test Accuracy of SVC = ', round(svc.score(X_test, y_test), 4))\n",
    "# Check the prediction time for a single sample\n",
    "t=time.time()\n",
    "n_predict = 15\n",
    "print('SVC predicts: ', svc.predict(X_test[0:n_predict]))\n",
    "print('Labels        ', y_test[0:n_predict])\n",
    "t2 = time.time()\n",
    "print(round(t2-t, 5), 'Seconds to predict', n_predict,'labels with SVC')"
   ]
  },
  {
   "cell_type": "code",
   "execution_count": 75,
   "metadata": {
    "collapsed": false
   },
   "outputs": [
    {
     "name": "stdout",
     "output_type": "stream",
     "text": [
      "('X_train.shape', (5860, 1536))\n",
      "('X_test.shape', (1465, 1536))\n"
     ]
    }
   ],
   "source": [
    "print('X_train.shape',X_train.shape)\n",
    "\n",
    "print('X_test.shape',X_test.shape)\n"
   ]
  },
  {
   "cell_type": "code",
   "execution_count": 64,
   "metadata": {
    "collapsed": false
   },
   "outputs": [
    {
     "name": "stdout",
     "output_type": "stream",
     "text": [
      "(1465, 1536)\n",
      "(64, 64, 3)\n",
      "('Xnew.shape', (2, 1536))\n",
      "('SVC predicts: ', array([ 1.,  1.]))\n",
      "(0.0005, 'Seconds to predict', 1, ' label with SVC')\n"
     ]
    },
    {
     "data": {
      "image/png": "[encoded data removed]",
      "text/plain": [
       "<matplotlib.figure.Figure at 0x122ef9b50>"
      ]
     },
     "metadata": {},
     "output_type": "display_data"
    }
   ],
   "source": [
    "# Classify an image\n",
    "print(X_test.shape)\n",
    "\n",
    "#imageName =['test_images/test7.png']\n",
    "#image = mpimg.imread('test_images/test7.png')\n",
    "#print(image.shape)\n",
    "\n",
    "img = mpimg.imread('test_images/test6.jpg')\n",
    "img = img[420:484,810:874,:]\n",
    "cv2.imwrite('test.png',img)\n",
    "plt.imshow(img)\n",
    "print(img.shape)\n",
    "\n",
    "feat = extract_features(['test_images/test8.png','test_images/test8.png'], cspace='YCrCb', orient=8,pix_per_cell=8, cell_per_block=1, hog_channel='ALL')\n",
    "Xnew = np.vstack((feat)).astype(np.float64)     \n",
    "print('Xnew.shape',Xnew.shape)\n",
    "# Fit a per-column scaler\n",
    "Xnew_scaler = StandardScaler().fit(Xnew)\n",
    "# Apply the scaler to X\n",
    "scaled_Xnew = Xnew_scaler.transform(Xnew)\n",
    "scaled_Xnew\n",
    "\n",
    "t=time.time()\n",
    "print('SVC predicts: ', svc.predict(scaled_Xnew[0:5]))\n",
    "t2 = time.time()\n",
    "print(round(t2-t, 5), 'Seconds to predict', 1,' label with SVC')"
   ]
  },
  {
   "cell_type": "code",
   "execution_count": 76,
   "metadata": {
    "collapsed": true
   },
   "outputs": [],
   "source": [
    "import pickle\n",
    "\n",
    "pickle.dump( svc, open( \"saved_svc_YCrCb.p\", \"wb\" ) )\n",
    "pickle.dump( svc, open( \"saved_X_scaler_YCrCb.p\", \"wb\" ) )"
   ]
  },
  {
   "cell_type": "code",
   "execution_count": 77,
   "metadata": {
    "collapsed": true
   },
   "outputs": [],
   "source": [
    "\n",
    "loaded_svc = pickle.load( open( \"saved_svc_YCrCb.p\", \"rb\" ) )\n",
    "loaded_X_scale = pickle.load( open( \"saved_X_scaler_YCrCb.p\", \"rb\" ) )"
   ]
  },
  {
   "cell_type": "code",
   "execution_count": 78,
   "metadata": {
    "collapsed": false
   },
   "outputs": [
    {
     "name": "stdout",
     "output_type": "stream",
     "text": [
      "LinearSVC(C=1.0, class_weight=None, dual=True, fit_intercept=True,\n",
      "     intercept_scaling=1, loss='squared_hinge', max_iter=1000,\n",
      "     multi_class='ovr', penalty='l2', random_state=None, tol=0.0001,\n",
      "     verbose=0)\n"
     ]
    }
   ],
   "source": [
    "print(loaded_svc)"
   ]
  },
  {
   "cell_type": "code",
   "execution_count": 79,
   "metadata": {
    "collapsed": false
   },
   "outputs": [
    {
     "name": "stdout",
     "output_type": "stream",
     "text": [
      "('Test Accuracy of original SVC = ', 0.957)\n",
      "('Test Accuracy of pickled SVC = ', 0.957)\n",
      "('Origin SVC predicts: ', array([ 0.,  1.,  0.,  0.,  0.,  1.,  0.,  1.,  1.,  1.,  0.,  1.,  0.,\n",
      "        1.,  0.]))\n",
      "('Loaded SVC predicts: ', array([ 0.,  1.,  0.,  0.,  0.,  1.,  0.,  1.,  1.,  1.,  0.,  1.,  0.,\n",
      "        1.,  0.]))\n"
     ]
    }
   ],
   "source": [
    "print('Test Accuracy of original SVC = ', round(svc.score(X_test, y_test), 4))\n",
    "print('Test Accuracy of pickled SVC = ', round(loaded_svc.score(X_test, y_test), 4))\n",
    "\n",
    "print('Origin SVC predicts: ', svc.predict(X_test[0:n_predict]))\n",
    "print('Loaded SVC predicts: ', loaded_svc.predict(X_test[0:n_predict]))"
   ]
  },
  {
   "cell_type": "code",
   "execution_count": null,
   "metadata": {
    "collapsed": true
   },
   "outputs": [],
   "source": []
  }
 ],
 "metadata": {
  "kernelspec": {
   "display_name": "Python 2",
   "language": "python",
   "name": "python2"
  },
  "language_info": {
   "codemirror_mode": {
    "name": "ipython",
    "version": 2
   },
   "file_extension": ".py",
   "mimetype": "text/x-python",
   "name": "python",
   "nbconvert_exporter": "python",
   "pygments_lexer": "ipython2",
   "version": "2.7.13"
  }
 },
 "nbformat": 4,
 "nbformat_minor": 2
}
